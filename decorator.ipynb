{
 "cells": [
  {
   "cell_type": "code",
   "execution_count": 2,
   "metadata": {},
   "outputs": [
    {
     "name": "stdout",
     "output_type": "stream",
     "text": [
      "15\n",
      "15\n"
     ]
    }
   ],
   "source": [
    "#1.修饰方法，是方法可以像属性一样访问 @property\n",
    "class DataSet(object):\n",
    "  @property\n",
    "  def method_with_property(self): ##含有@property\n",
    "      return 15\n",
    "  def method_without_property(self): ##不含@property\n",
    "      return 15\n",
    "\n",
    "l = DataSet()\n",
    "print(l.method_with_property) # 加了@property后，可以用调用属性的形式来调用方法,后面不需要加（）。\n",
    "print(l.method_without_property())  #没有加@property , 必须使用正常的调用方法的形式，即在后面加()"
   ]
  },
  {
   "cell_type": "code",
   "execution_count": 7,
   "metadata": {},
   "outputs": [
    {
     "ename": "TypeError",
     "evalue": "'int' object is not callable",
     "output_type": "error",
     "traceback": [
      "\u001b[1;31m---------------------------------------------------------------------------\u001b[0m",
      "\u001b[1;31mTypeError\u001b[0m                                 Traceback (most recent call last)",
      "\u001b[1;32md:\\Project\\hands_on_RL\\Hands-on-RL\\decorator.ipynb Cell 2\u001b[0m line \u001b[0;36m6\n\u001b[0;32m      <a href='vscode-notebook-cell:/d%3A/Project/hands_on_RL/Hands-on-RL/decorator.ipynb#W4sZmlsZQ%3D%3D?line=3'>4</a>\u001b[0m       \u001b[39mreturn\u001b[39;00m \u001b[39m15\u001b[39m\n\u001b[0;32m      <a href='vscode-notebook-cell:/d%3A/Project/hands_on_RL/Hands-on-RL/decorator.ipynb#W4sZmlsZQ%3D%3D?line=4'>5</a>\u001b[0m l \u001b[39m=\u001b[39m DataSet()\n\u001b[1;32m----> <a href='vscode-notebook-cell:/d%3A/Project/hands_on_RL/Hands-on-RL/decorator.ipynb#W4sZmlsZQ%3D%3D?line=5'>6</a>\u001b[0m \u001b[39mprint\u001b[39m(l\u001b[39m.\u001b[39;49mmethod_with_property()) \u001b[39m# 加了@property后，可以用调用属性的形式来调用方法,后面不需要加（）。\u001b[39;00m\n",
      "\u001b[1;31mTypeError\u001b[0m: 'int' object is not callable"
     ]
    }
   ],
   "source": [
    "class DataSet(object):\n",
    "  @property\n",
    "  def method_with_property(self): ##含有@property\n",
    "      return 15\n",
    "l = DataSet()\n",
    "print(l.method_with_property()) # 加了@property后，可以用调用属性的形式来调用方法,后面不需要加（）。"
   ]
  },
  {
   "cell_type": "code",
   "execution_count": null,
   "metadata": {},
   "outputs": [],
   "source": [
    "# 2.与所定义的属性配合使用，这样可以防止属性被修改。\n",
    "# ​由于python进行属性的定义时，没办法设置私有属性，因此要通过@property的方法来进行设置。\n",
    "# 这样可以隐藏属性名，让用户进行使用的时候无法随意修改。\n",
    "#\n",
    "\n",
    "class DataSet(object):\n",
    "    def __init__(self):\n",
    "        self._images = 1\n",
    "        self._labels = 2 #定义属性的名称\n",
    "    @property\n",
    "    def images(self): #方法加入@property后，这个方法相当于一个属性，这个属性可以让用户进行使用，而且用户有没办法随意修改。\n",
    "        return self._images \n",
    "    @property\n",
    "    def labels(self):\n",
    "        return self._labels\n",
    "l = DataSet()\n",
    "#用户进行属性调用的时候，直接调用images即可，而不用知道属性名_images，\n",
    "# 因此用户无法更改属性，从而保护了类的属性。\n",
    "print(l.images) # 加了@property后，可以用调用属性的形式来调用方法,后面不需要加（）。\n",
    "\n",
    "# 如果对用户隐藏class，则用户无法得知真正的属性名，因此无法进行更改。"
   ]
  },
  {
   "cell_type": "markdown",
   "metadata": {},
   "source": [
    "属性的私有和非私有？"
   ]
  },
  {
   "cell_type": "markdown",
   "metadata": {},
   "source": [
    "# 类，对象、方法、函数和属性的区别和理解\n",
    "https://blog.csdn.net/NBDwo/article/details/107492105\n",
    "\n",
    "- 类： 采用 Class 作为关键字进行定义的代码块，表示的是一种类别\n",
    "- 对象： 实例化之后的类，对类中的形参进行了赋值，赋予其真正的含义或数值\n",
    "- 方法： 使用 def 作为关键词，定义在类内的函数\n",
    "- 函数： 使用 def 作为关键词，但是没有在类内进行定义，即 定义在类外\n",
    "- 属性： 类内的称呼，其实就是类内的变量，同一个类内的不同方法内的变量都是这个类的属性，也就是这个类的"
   ]
  },
  {
   "cell_type": "code",
   "execution_count": 5,
   "metadata": {},
   "outputs": [
    {
     "name": "stdout",
     "output_type": "stream",
     "text": [
      "您实例化了Person类, 初始化的num= 1\n"
     ]
    }
   ],
   "source": [
    "#!/usr/bin/python\n",
    "# -*- coding: utf-8 -*-\n",
    "\n",
    "\"\"\"\n",
    " PyQt5 tutorial\n",
    " Zephyr Hou on 2020-07-21\n",
    "\"\"\"\n",
    "class Person:\n",
    "    num=1   # 类的属性，使用前需要对其进行声明，否则会报错\n",
    "    print(\"您实例化了Person类, 初始化的num=\",num)\n",
    "    def setName(self,name):\n",
    "        self.name=name       # 第一个内部是类内部的属性\n",
    "    def getName(self):\n",
    "        return self.name\n",
    "    def count(self):\n",
    "        self.num+=1   # 使用之前已经对其进行了声明\n"
   ]
  },
  {
   "cell_type": "markdown",
   "metadata": {},
   "source": [
    "首先，我们创建了一个 类，而这个类的名字叫做 Person，然后在这个 Person代码块 下，定义了 setName、 getName 和 count 三个函数，因为定义的这三个函数在代码块内，所有我们称之为 Person类 的 三个方法（分别是：setName方法、 getName 方法和 count 方法 ）\n",
    "\n",
    "而对于 setName 方法下面的 变量name, count方法下面的变量num ，我们都可以称之为 类 Person 下面的属性，而类在进行使用时，我们需要对其进行实例化，具体实例化的例子如下：\n"
   ]
  },
  {
   "cell_type": "code",
   "execution_count": 6,
   "metadata": {},
   "outputs": [
    {
     "name": "stdout",
     "output_type": "stream",
     "text": [
      "小猴\n",
      "num=1\n",
      "num=2\n",
      "num=3\n"
     ]
    }
   ],
   "source": [
    "#!/usr/bin/python\n",
    "# -*- coding: utf-8 -*-\n",
    "\n",
    "\"\"\"\n",
    " PyQt5 tutorial\n",
    " Zephyr Hou on 2020-07-21\n",
    "\"\"\"\n",
    "\n",
    "\n",
    "# Person类的实例化\n",
    "p=Person()    #对象\n",
    "\n",
    "# 调用setName和getName方法\n",
    "p.setName(\"小猴\")\n",
    "print(p.getName())\n",
    "\n",
    "# 不调用的时候，查看count方法的属num性\n",
    "print(\"num=\"+str(p.num))\n",
    "\n",
    "# 调用count方法时，查看count方法的属num性\n",
    "p.count()\n",
    "print(\"num=\"+str(p.num))\n",
    "\n",
    "# 再次调用count方法时，查看count方法的属num性\n",
    "p.count()\n",
    "print(\"num=\"+str(p.num))\n"
   ]
  },
  {
   "cell_type": "markdown",
   "metadata": {},
   "source": [
    "当类被实例化之后，类内的代码会被执行，但是其内部的方法在没有被调用之前不会被执行，方法中的属性也不会发生改变，而当方法被调用之后，方法内部的属性值也会发生相应的改变，改变之后的属性值会传递到整个类内，当再次进行调用该类的方法时，其属性的初始值是上次运算之后的属性值结果。"
   ]
  },
  {
   "cell_type": "markdown",
   "metadata": {},
   "source": [
    "# 类中定义私有属性\n",
    "\n",
    "一种用单下划线，表示这个属性是类的私有属性，不希望被外部访问到，但仅仅是不希望，还是可以被访问的；\n",
    "\n",
    "第二种是双下划线，表示这个属性就是类的私有属性，只能在类中被使用，不可以在实例化的对象中去使用"
   ]
  },
  {
   "cell_type": "markdown",
   "metadata": {},
   "source": [
    "# class的访问控制：单下划线_与双下划线__\n",
    "https://blog.csdn.net/brucewong0516/article/details/79120841\n",
    "\n",
    "1. 单下划线\n",
    "\n",
    "在Python中，通过单下划线\"“来实现模块级别的私有化，变量除外。一般约定以单下划线”\"开头的函数为模块私有的，也就是说\"from moduleName import * “将不会引入以单下划线”_\"开头的函数。\n",
    "\n",
    "```\n",
    "name = 'bruce'\n",
    "_tall = 180\n",
    "\n",
    "def call_for():\n",
    "    print('name is :',name)\n",
    "    print('_tall is',_tall)\n",
    "    \n",
    "def _call_for():\n",
    "    print('name is :',name)\n",
    "    \n",
    "#_call_for = _call_for()    \n",
    "print()\n",
    "print('_tall is',_tall)\n",
    "\n",
    "```"
   ]
  },
  {
   "cell_type": "code",
   "execution_count": 9,
   "metadata": {},
   "outputs": [],
   "source": [
    "\n",
    "class example:\n",
    "    def __init__(self):\n",
    "        self.name = 'bruce'\n",
    "        self._tall = 180\n",
    "\n",
    "    def call_for(self):\n",
    "        print('name is :',self.name)\n",
    "        print('_tall is',self._tall)\n",
    "        \n",
    "    def _call_for(self):\n",
    "        print('name is :',self.name)\n",
    "    \n",
    "\n",
    "\n"
   ]
  }
 ],
 "metadata": {
  "kernelspec": {
   "display_name": "py38",
   "language": "python",
   "name": "python3"
  },
  "language_info": {
   "codemirror_mode": {
    "name": "ipython",
    "version": 3
   },
   "file_extension": ".py",
   "mimetype": "text/x-python",
   "name": "python",
   "nbconvert_exporter": "python",
   "pygments_lexer": "ipython3",
   "version": "3.8.0"
  }
 },
 "nbformat": 4,
 "nbformat_minor": 2
}
