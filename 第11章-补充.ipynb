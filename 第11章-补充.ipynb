{
 "cells": [
  {
   "cell_type": "markdown",
   "metadata": {},
   "source": [
    "# gym中设置seed的作用范围\n",
    "env.seed(): 如果设置了相同的seed，那么每次reset都是确定的，但每次reset未必是相同的，即保证的是环境初始化的一致性.\n",
    "\n",
    "例如我们初始化环境env1，同时设置env1.seed(1)，然后reset()3次得到顺序的3个初始状态S1=[s0,s1,s2]。假如再初始化环境env2，也设置env2.seed(1)，那么reset()3次会得到与相同的3个初始状态S2=S1=[s0,s1,s2].\n",
    "\n",
    "所以，在种子相同的情况下，理论上相同的确定性策略在环境中产生的轨迹也应该是相同的。但是做实验发现设置了相同seed的环境居然产生了不一样的轨迹。\n",
    "\n",
    "测试代码如下，看到第一次reset后， env1和env2因为seed相同，所以s1==s2，没问题，并且s1 != s3. 符合预期。但是在env.action_space.sample()中发现 a1 != a2，说明 action_space.sample()不受env.seed()控制。\n",
    "\n",
    "action_space是需要单独设置seed的。需要使用env.action_space.seed()保证"
   ]
  },
  {
   "cell_type": "code",
   "execution_count": 6,
   "metadata": {},
   "outputs": [
    {
     "name": "stdout",
     "output_type": "stream",
     "text": [
      "\u001b[33mWARN: gym.spaces.Box autodetected dtype as <class 'numpy.float32'>. Please provide explicit dtype.\u001b[0m\n",
      "\u001b[33mWARN: gym.spaces.Box autodetected dtype as <class 'numpy.float32'>. Please provide explicit dtype.\u001b[0m\n",
      "\u001b[33mWARN: gym.spaces.Box autodetected dtype as <class 'numpy.float32'>. Please provide explicit dtype.\u001b[0m\n",
      "s1=[ 0.03073904  0.00145001 -0.03088818 -0.03131252],\n",
      " s2=[ 0.03073904  0.00145001 -0.03088818 -0.03131252],\n",
      " s3=[0.03468829 0.01500225 0.01230312 0.01825219]\n",
      "a1=0,a2=0,a3=0\n",
      "s4=[ 0.02725216 -0.04481721 -0.04304738  0.00151751],s5=[ 0.02725216 -0.04481721 -0.04304738  0.00151751]\n"
     ]
    }
   ],
   "source": [
    "import gym\n",
    "import numpy as np\n",
    "env1 = gym.make('CartPole-v1')\n",
    "env2 = gym.make('CartPole-v1')\n",
    "env3 = gym.make('CartPole-v1')\n",
    "\n",
    "env1.seed(1)\n",
    "env2.seed(1)\n",
    "env3.seed(2)\n",
    "\n",
    "s1 = env1.reset() # [ 0.03073904  0.00145001 -0.03088818 -0.03131252]\n",
    "s2 = env2.reset() # [ 0.03073904  0.00145001 -0.03088818 -0.03131252]\n",
    "s3 = env3.reset() # [0.03468829 0.01500225 0.01230312 0.01825219]\n",
    "print('s1={},\\n s2={},\\n s3={}'.format(s1,s2,s3))\n",
    "\n",
    "a1 = env1.action_space.sample() # 0\n",
    "a2 = env2.action_space.sample() # 1\n",
    "a3 = env3.action_space.sample() # 0\n",
    "print('a1={},a2={},a3={}'.format(a1,a2,a3))\n",
    "\n",
    "next_obs1, _, _, _ = env1.step(a1) # [ 0.03076804 -0.19321569 -0.03151444  0.25146705]\n",
    "next_obs2, _, _, _ = env2.step(a2) # [ 0.03076804  0.19700098 -0.03151444 -0.33357875]\n",
    "next_obs3, _, _, _ = env3.step(a3) # [ 0.03498833 -0.18029396  0.01266816  0.31479136]\n",
    "\n",
    "s4 = env1.reset() # [ 0.02725216 -0.04481721 -0.04304738  0.00151751]\n",
    "s5 = env2.reset() # [ 0.02725216 -0.04481721 -0.04304738  0.00151751]\n",
    "print('s4={},s5={}'.format(s4,\n",
    "s5))"
   ]
  },
  {
   "cell_type": "markdown",
   "metadata": {},
   "source": [
    "# torch.manual_seed()\n",
    "设置CPU生成随机数的种子，方便下次复现实验结果。\n",
    "\n",
    "```\n",
    "torch.manual_seed(seed) → torch._C.Generator\n",
    "```\n",
    "seed (int) – CPU生成随机数的种子。取值范围为[-0x8000000000000000, 0xffffffffffffffff]，十进制是[-9223372036854775808, 18446744073709551615]，超出该范围将触发RuntimeError报错。\n",
    "\n",
    "返回一个`torch.Generator`对象\n"
   ]
  },
  {
   "cell_type": "code",
   "execution_count": 8,
   "metadata": {},
   "outputs": [
    {
     "name": "stdout",
     "output_type": "stream",
     "text": [
      "tensor([0.4963])\n"
     ]
    }
   ],
   "source": [
    "# test.py\n",
    "import torch\n",
    "torch.manual_seed(0)\n",
    "print(torch.rand(1)) # 返回一个张量，包含了从区间[0, 1)的均匀分布中抽取的一组随机数\n"
   ]
  },
  {
   "cell_type": "markdown",
   "metadata": {},
   "source": [
    "# 注意\n",
    "设置随机种子后，是每次运行test.py文件的输出结果都一样，而不是每次随机函数生成的结果一样："
   ]
  },
  {
   "cell_type": "code",
   "execution_count": 9,
   "metadata": {},
   "outputs": [
    {
     "name": "stdout",
     "output_type": "stream",
     "text": [
      "tensor([0.4963])\n",
      "tensor([0.7682])\n"
     ]
    }
   ],
   "source": [
    "# test.py\n",
    "import torch\n",
    "torch.manual_seed(0)\n",
    "print(torch.rand(1))\n",
    "print(torch.rand(1))\n"
   ]
  },
  {
   "cell_type": "code",
   "execution_count": null,
   "metadata": {},
   "outputs": [
    {
     "name": "stdout",
     "output_type": "stream",
     "text": [
      "tensor([0.4963])\n",
      "tensor([0.4963])\n"
     ]
    }
   ],
   "source": [
    "# test.py\n",
    "import torch\n",
    "torch.manual_seed(0)\n",
    "print(torch.rand(1))\n",
    "torch.manual_seed(0)\n",
    "print(torch.rand(1))\n"
   ]
  },
  {
   "cell_type": "markdown",
   "metadata": {},
   "source": [
    "# torch.device()\n",
    "常见用法\n",
    "```\n",
    "device = torch.device(\"cuda\" if torch.cuda.is_available() else \"cpu\")\n",
    "\n",
    "if torch.cuda.is_available():\n",
    "\tdevice = torch.device(\"cuda\")\n",
    "else:\n",
    "\tdevice = torch.device(\"cpu\")\n",
    "\n",
    "```\n",
    "这个device的用处是作为`Tensor`或者`Model`被分配到的位置。因此，在构建device对象后，紧跟的代码往往是：\n",
    "\n",
    "```\n",
    "data = data.to(device)\n",
    "model = Model(...).to(device)\n",
    "# 更一般地\n",
    "torch.device('cuda', 0)\n",
    "torch.device('cuda:0')\n",
    "\n",
    "```"
   ]
  },
  {
   "cell_type": "markdown",
   "metadata": {},
   "source": [
    "# 环境搭建\n",
    "`env = gym.make(‘CartPole-v0’)` 创建环境\n",
    "\n",
    "`env.reset()` 状态初始化\n",
    "\n",
    "`env.render()`\n",
    "\n",
    "`env.step()` 该函数在仿真器中扮演物理引擎的角色。其输入是动作a，输出是：下一步状态，立即回报，是否终止，调试项。\n",
    "\n",
    "\n",
    "\n",
    "\n",
    "```\n",
    "import gym\n",
    "import time\n",
    "env = gym.make('CartPole-v0')   #创造环境\n",
    "observation = env.reset()       #初始化环境，observation为环境状态\n",
    "count = 0\n",
    "for t in range(100):\n",
    "    action = env.action_space.sample()  #随机采样动作\n",
    "    observation, reward, done, info = env.step(action)  #与环境交互，获得下一步的时刻\n",
    "    if done:             \n",
    "        break\n",
    "    env.render()         #绘制场景\n",
    "    count+=1\n",
    "    time.sleep(0.2)      #每次等待0.2s\n",
    "print(count)             #打印该次尝试的步数\n",
    "```"
   ]
  },
  {
   "cell_type": "code",
   "execution_count": 1,
   "metadata": {},
   "outputs": [
    {
     "name": "stderr",
     "output_type": "stream",
     "text": [
      "d:\\env\\Anaconda3\\envs\\py38\\lib\\site-packages\\gym\\envs\\registration.py:14: PkgResourcesDeprecationWarning: Parameters to load are deprecated.  Call .resolve and .require separately.\n",
      "  result = entry_point.load(False)\n"
     ]
    },
    {
     "name": "stdout",
     "output_type": "stream",
     "text": [
      "\u001b[33mWARN: gym.spaces.Box autodetected dtype as <class 'numpy.float32'>. Please provide explicit dtype.\u001b[0m\n",
      "14\n"
     ]
    },
    {
     "ename": "",
     "evalue": "",
     "output_type": "error",
     "traceback": [
      "\u001b[1;31mThe Kernel crashed while executing code in the the current cell or a previous cell. Please review the code in the cell(s) to identify a possible cause of the failure. Click <a href='https://aka.ms/vscodeJupyterKernelCrash'>here</a> for more info. View Jupyter <a href='command:jupyter.viewOutput'>log</a> for further details."
     ]
    }
   ],
   "source": [
    "import gym\n",
    "import time\n",
    "env = gym.make('CartPole-v0')   #创造环境\n",
    "observation = env.reset()       #初始化环境，observation为环境状态\n",
    "count = 0\n",
    "for t in range(100):\n",
    "    action = env.action_space.sample()  #随机采样动作\n",
    "    observation, reward, done, info = env.step(action)  #与环境交互，获得下一步的时刻\n",
    "    if done:             \n",
    "        break\n",
    "    env.render()         #绘制场景\n",
    "    count+=1\n",
    "    time.sleep(0.2)      #每次等待0.2s\n",
    "print(count)             #打印该次尝试的步数\n"
   ]
  }
 ],
 "metadata": {
  "kernelspec": {
   "display_name": "py38",
   "language": "python",
   "name": "python3"
  },
  "language_info": {
   "codemirror_mode": {
    "name": "ipython",
    "version": 3
   },
   "file_extension": ".py",
   "mimetype": "text/x-python",
   "name": "python",
   "nbconvert_exporter": "python",
   "pygments_lexer": "ipython3",
   "version": "3.8.0"
  }
 },
 "nbformat": 4,
 "nbformat_minor": 2
}
