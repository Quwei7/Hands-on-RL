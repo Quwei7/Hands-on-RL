{
  "cells": [
    {
      "cell_type": "markdown",
      "metadata": {
        "id": "g-vtowPZLNWg"
      },
      "source": [
        "In this tutorial, we will demonstrates how to implement PPO algorithm to solve a countinuous problem Inverted Pendulum.\n",
        "\n",
        "Key learnings:\n",
        "\n",
        "* How to create an environment in TorchRL, transform its outputs, and collect data from this environment;\n",
        "\n",
        "* How to compute the general advantage estimation (GAE) for policy gradient methods;\n",
        "\n",
        "* How to create a stochastic policy using a probabilistic neural network."
      ]
    },
    {
      "cell_type": "markdown",
      "metadata": {
        "id": "s1CpGhdvMZMm"
      },
      "source": [
        "# Useful Functions\n",
        "Here are some useful tools for the following training process. You can directly use them."
      ]
    },
    {
      "cell_type": "code",
      "execution_count": 101,
      "metadata": {
        "id": "-xs0v_KpJGPT"
      },
      "outputs": [],
      "source": [
        "from tqdm import tqdm\n",
        "import numpy as np\n",
        "import torch\n",
        "import collections\n",
        "import random\n",
        "\n",
        "\n",
        "# This is the replay buffer for storing the experience, note the transitions are collected with batch samples.\n",
        "class ReplayBuffer:\n",
        "    def __init__(self, capacity):\n",
        "        self.buffer = collections.deque(maxlen=capacity)\n",
        "\n",
        "    def add(self, state, action, reward, next_state, done):\n",
        "        self.buffer.append((state, action, reward, next_state, done))\n",
        "\n",
        "    def sample(self, batch_size):\n",
        "        transitions = random.sample(self.buffer, batch_size)\n",
        "        state, action, reward, next_state, done = zip(*transitions)\n",
        "        return np.array(state), action, reward, np.array(next_state), done\n",
        "\n",
        "    def size(self):\n",
        "        return len(self.buffer)\n",
        "\n",
        "\n",
        "# This is the function to smooth the curves by latest window_size (e.g. 100) timesteps' rewards.\n",
        "def moving_average(a, window_size):\n",
        "    cumulative_sum = np.cumsum(np.insert(a, 0, 0))\n",
        "    middle = (cumulative_sum[window_size:] - cumulative_sum[:-window_size]) / window_size\n",
        "    r = np.arange(1, window_size-1, 2)\n",
        "    begin = np.cumsum(a[:window_size-1])[::2] / r\n",
        "    end = (np.cumsum(a[:-window_size:-1])[::2] / r)[::-1]\n",
        "    return np.concatenate((begin, middle, end))\n"
      ]
    },
    {
      "cell_type": "markdown",
      "metadata": {
        "id": "VX0BOR04N0QP"
      },
      "source": [
        "# PPO\n",
        "\n",
        "Proximal Policy Optimization (PPO) is a policy-gradient algorithm where a\n",
        "batch of data is being collected and directly consumed to train the policy to maximise\n",
        "the expected return given some proximality constraints. You can think of it\n",
        "as a sophisticated version of [REINFORCE](https://link.springer.com/content/pdf/10.1007/BF00992696.pdf),\n",
        "the foundational policy-optimization algorithm. For more information, see the\n",
        "[Proximal Policy Optimization Algorithms](https://arxiv.org/abs/1707.06347) paper.\n",
        "\n",
        "PPO is usually regarded as a fast and efficient method for online, on-policy\n",
        "reinforcement algorithm. TorchRL provides a loss-module that does all the work\n",
        "for you, so that you can rely on this implementation and focus on solving your\n",
        "problem rather than re-inventing the wheel every time you want to train a policy.\n",
        "\n",
        "For completeness, here is a brief overview of what the loss computes, the algorithm works as follows:\n",
        "1. we will sample a batch of data by playing the\n",
        "policy in the environment for a given number of steps.\n",
        "2. Then, we will perform a given number of optimization steps with random sub-samples of this batch using\n",
        "a clipped version of the REINFORCE loss.\n",
        "3. The clipping will put a pessimistic bound on our loss: lower return estimates will\n",
        "be favored compared to higher ones.\n",
        "The precise formula of the loss is:\n",
        "\n",
        "\\begin{align}L(s,a,\\theta_k,\\theta) = \\min\\left(\n",
        "    \\frac{\\pi_{\\theta}(a|s)}{\\pi_{\\theta_k}(a|s)}  A^{\\pi_{\\theta_k}}(s,a), \\;\\;\n",
        "    g(\\epsilon, A^{\\pi_{\\theta_k}}(s,a))\n",
        "    \\right),\\end{align}\n",
        "\n",
        "There are two components in that loss: in the first part of the minimum operator,\n",
        "we simply compute an importance-weighted version of the REINFORCE loss (for example, a\n",
        "REINFORCE loss that we have corrected for the fact that the current policy\n",
        "configuration lags the one that was used for the data collection).\n",
        "The second part of that minimum operator is a similar loss where we have clipped\n",
        "the ratios when they exceeded or were below a given pair of thresholds.\n",
        "\n",
        "This loss ensures that whether the advantage is positive or negative, policy\n",
        "updates that would produce significant shifts from the previous configuration\n",
        "are being discouraged."
      ]
    },
    {
      "cell_type": "markdown",
      "metadata": {
        "id": "sltYbvTJ0HLx"
      },
      "source": [
        "We now begin to build the backbone for PPO. It includes the following parts:\n",
        "\n",
        "\n",
        "\n",
        "*   PPO\n",
        "  *   Define policy Network\n",
        "  *   Define actor Network\n",
        "  *   Define advantage function with general advantage estimation (GAE)\n",
        "  *   Define PPO agent\n",
        "  *   Defien training process\n",
        "  *   Train and plot"
      ]
    },
    {
      "cell_type": "code",
      "execution_count": 102,
      "metadata": {
        "id": "T0Y38ey0JMHu"
      },
      "outputs": [],
      "source": [
        "import gym\n",
        "import torch\n",
        "import torch.nn.functional as F\n",
        "import numpy as np\n",
        "import matplotlib.pyplot as plt"
      ]
    },
    {
      "cell_type": "markdown",
      "metadata": {
        "id": "4YsOerIgPwSS"
      },
      "source": [
        "# Define policy and value network\n",
        "\n",
        "Because this environment is a continuous task, the policy need to be represented by a Gaussian-like stochastic policy. The actions are sampled from this policy.\n",
        "\n",
        "The output of policy network is the mean and std of the gaussian distribution. The output of value network is the state value estimation."
      ]
    },
    {
      "cell_type": "code",
      "execution_count": 103,
      "metadata": {
        "colab": {
          "base_uri": "https://localhost:8080/"
        },
        "id": "GksndnDzPwdz",
        "outputId": "ba4e9d84-7a33-4ecd-e80f-3c74b923cb97"
      },
      "outputs": [],
      "source": [
        "# Define a 3-layer MLP as Policy Network\n",
        "class PolicyNetContinuous(torch.nn.Module):\n",
        "    def __init__(self, state_dim, hidden_dim, action_dim):\n",
        "        super(PolicyNetContinuous, self).__init__()\n",
        "        self.fc1 = torch.nn.Linear(state_dim, hidden_dim)\n",
        "        self.fc_mu = torch.nn.Linear(hidden_dim, action_dim)\n",
        "        self.fc_std = torch.nn.Linear(hidden_dim, action_dim)\n",
        "\n",
        "    def forward(self, x):\n",
        "        x = F.relu(self.fc1(x))\n",
        "        mu = 2.0 * torch.tanh(self.fc_mu(x))\n",
        "        std = F.softplus(self.fc_std(x))\n",
        "        return mu, std\n",
        "\n",
        "\n",
        "# Define a 3-layer MLP as Value Network\n",
        "class ValueNet(torch.nn.Module):\n",
        "    def __init__(self, state_dim, hidden_dim):\n",
        "        super(ValueNet, self).__init__()\n",
        "        self.fc1 = torch.nn.Linear(state_dim, hidden_dim)\n",
        "        self.fc2 = torch.nn.Linear(hidden_dim, 1)\n",
        "\n",
        "    def forward(self, x):\n",
        "        x = F.relu(self.fc1(x))\n",
        "        return self.fc2(x)\n",
        "\n",
        "\n",
        "\n"
      ]
    },
    {
      "cell_type": "markdown",
      "metadata": {
        "id": "smj9DajjOeNY"
      },
      "source": [
        "# GAE\n",
        "In this part, we define the advantage function as follows, which will be used in the PPO agent - policy update. The input is TD error."
      ]
    },
    {
      "cell_type": "code",
      "execution_count": 104,
      "metadata": {
        "id": "oW2WA7ISOeaE"
      },
      "outputs": [],
      "source": [
        "def compute_advantage(gamma, lmbda, td_delta):\n",
        "    td_delta = td_delta.detach().numpy()\n",
        "    advantage_list = []\n",
        "    advantage = 0.0\n",
        "    for delta in td_delta[::-1]:\n",
        "        advantage = gamma * lmbda * advantage + delta\n",
        "        advantage_list.append(advantage)\n",
        "    advantage_list.reverse()\n",
        "    return torch.tensor(advantage_list, dtype=torch.float)"
      ]
    },
    {
      "cell_type": "markdown",
      "metadata": {
        "id": "nrwF3MMQzqhB"
      },
      "source": [
        "# Define PPO Agent\n",
        "Realize the PPO agent.\n",
        "\n",
        "An abstract hint for policy update:\n",
        "\n",
        "get transitions from buffer -> calculate the GAE advantage with TD error -> construct new policy and old policy distrubution, calculate the ratio and clipping parameters -> get new loss with clipping operation, make back-propogation and optimizer stepping."
      ]
    },
    {
      "cell_type": "code",
      "execution_count": 118,
      "metadata": {
        "id": "tWiR6KOczpr3"
      },
      "outputs": [],
      "source": [
        "class PPOContinuous:\n",
        "    ''' PPO with clip for continuous tasks '''\n",
        "    def __init__(self, state_dim, hidden_dim, action_dim, actor_lr, critic_lr,\n",
        "                    lmbda, epochs, eps, gamma, device):\n",
        "        self.actor = PolicyNetContinuous(state_dim, hidden_dim,\n",
        "                                            action_dim).to(device)\n",
        "        self.critic = ValueNet(state_dim, hidden_dim).to(device)\n",
        "        self.actor_optimizer = torch.optim.Adam(self.actor.parameters(),\n",
        "                                                lr=actor_lr)\n",
        "        self.critic_optimizer = torch.optim.Adam(self.critic.parameters(),\n",
        "                                                    lr=critic_lr)\n",
        "        self.gamma = gamma\n",
        "        self.lmbda = lmbda\n",
        "        self.epochs = epochs\n",
        "        self.eps = eps\n",
        "        self.device = device\n",
        "\n",
        "    def take_action(self, state):\n",
        "        state = torch.tensor([state], dtype=torch.float).to(self.device)\n",
        "        mu, sigma = self.actor(state)\n",
        "        action_dist = torch.distributions.Normal(mu, sigma)\n",
        "        action = action_dist.sample()\n",
        "        return [action.item()]\n",
        "\n",
        "    def update(self, transition_dict):\n",
        "        states = torch.tensor(transition_dict['states'],\n",
        "                                dtype=torch.float).to(self.device)\n",
        "        actions = torch.tensor(transition_dict['actions'],\n",
        "                                dtype=torch.float).view(-1, 1).to(self.device)\n",
        "        rewards = torch.tensor(transition_dict['rewards'],\n",
        "                                dtype=torch.float).view(-1, 1).to(self.device)\n",
        "        next_states = torch.tensor(transition_dict['next_states'],\n",
        "                                    dtype=torch.float).to(self.device)\n",
        "        dones = torch.tensor(transition_dict['dones'],\n",
        "                                dtype=torch.float).view(-1, 1).to(self.device)\n",
        "        rewards = (rewards + 8.0) / 8.0  # 和TRPO一样,对奖励进行修改,方便训练\n",
        "        td_target = rewards + self.gamma * self.critic(next_states) * (1 -\n",
        "                                                                        dones)\n",
        "        td_delta = td_target - self.critic(states)\n",
        "        advantage = compute_advantage(self.gamma, self.lmbda,\n",
        "                                                td_delta.cpu()).to(self.device)\n",
        "        mu, std = self.actor(states)\n",
        "        action_dists = torch.distributions.Normal(mu.detach(), std.detach())\n",
        "        # 动作是正态分布\n",
        "        old_log_probs = action_dists.log_prob(actions)\n",
        "\n",
        "        for _ in range(self.epochs):\n",
        "            mu, std = self.actor(states)\n",
        "            action_dists = torch.distributions.Normal(mu, std)\n",
        "            log_probs = action_dists.log_prob(actions)\n",
        "            ratio = torch.exp(log_probs - old_log_probs)\n",
        "            surr1 = ratio * advantage\n",
        "            surr2 = torch.clamp(ratio, 1 - self.eps, 1 + self.eps) * advantage\n",
        "            actor_loss = torch.mean(-torch.min(surr1, surr2))\n",
        "            critic_loss = torch.mean(\n",
        "                F.mse_loss(self.critic(states), td_target.detach()))\n",
        "            self.actor_optimizer.zero_grad()\n",
        "            self.critic_optimizer.zero_grad()\n",
        "            actor_loss.backward()\n",
        "            critic_loss.backward()\n",
        "            self.actor_optimizer.step()\n",
        "            self.critic_optimizer.step()"
      ]
    },
    {
      "cell_type": "markdown",
      "metadata": {
        "id": "yakop4SQN4N4"
      },
      "source": [
        "# Define training process\n",
        "\n",
        "In this part, we need to define the trainng episodes process. The output is the return list of the whole training process with multiple episodes' accumulated rewards.\n",
        "\n",
        "If you have no idea about what to do, you can refer to the following instructions. (Only as an abstract hint.)\n",
        "\n",
        "In each episode, you need to realize the following steps\n",
        "* initialize episode return, transition dictionary, state\n",
        "* while not terminate, do sample action -> env update -> save transition into buffers -> update to the new state and accumulate rewards -> update agents\n",
        "* append episode returns and move to the next episode\n"
      ]
    },
    {
      "cell_type": "code",
      "execution_count": 121,
      "metadata": {
        "id": "sxsD543iO4r8"
      },
      "outputs": [],
      "source": [
        "def train_on_policy_agent(env, agent, num_episodes):\n",
        "    return_list = []\n",
        "    for i in range(10):\n",
        "        with tqdm(total=int(num_episodes/10), desc='Iteration %d' % i) as pbar:\n",
        "            for i_episode in range(int(num_episodes/10)):\n",
        "                episode_return = 0\n",
        "                transition_dict = {'states': [], 'actions': [], 'next_states': [], 'rewards': [], 'dones': []}\n",
        "                state,_ = env.reset()\n",
        "                done = False\n",
        "                epoch = 0\n",
        "                while (not done and epoch<100):\n",
        "                    epoch+=1\n",
        "                    action = agent.take_action(state)\n",
        "                    next_state, reward, done, _,_ = env.step(action)\n",
        "                    # env.render()\n",
        "                    transition_dict['states'].append(state)\n",
        "                    transition_dict['actions'].append(action)\n",
        "                    transition_dict['next_states'].append(next_state)\n",
        "                    transition_dict['rewards'].append(reward)\n",
        "                    transition_dict['dones'].append(done)\n",
        "                    state = next_state\n",
        "                    episode_return += reward\n",
        "                return_list.append(episode_return)\n",
        "                agent.update(transition_dict)\n",
        "                if (i_episode+1) % 10 == 0:\n",
        "                    pbar.set_postfix({'episode': '%d' % (num_episodes/10 * i + i_episode+1), 'return': '%.3f' % np.mean(return_list[-10:])})\n",
        "                pbar.update(1)\n",
        "    return return_list\n"
      ]
    },
    {
      "cell_type": "markdown",
      "metadata": {
        "id": "RwInNbXuO7CB"
      },
      "source": [
        "# Start Training\n",
        "With the above modules, we can start our training process here.\n",
        "If you want to improve the performance, you can try to adjust the parameters as you wish. The training episodes are at least 2000."
      ]
    },
    {
      "cell_type": "code",
      "execution_count": 122,
      "metadata": {
        "colab": {
          "base_uri": "https://localhost:8080/"
        },
        "id": "WzlzEf4UJhc2",
        "outputId": "54e8f1f9-96e7-4b62-f839-328f43684da9"
      },
      "outputs": [
        {
          "name": "stderr",
          "output_type": "stream",
          "text": [
            "Iteration 0:   0%|          | 0/200 [00:00<?, ?it/s]"
          ]
        },
        {
          "name": "stderr",
          "output_type": "stream",
          "text": [
            "Iteration 0: 100%|██████████| 200/200 [00:33<00:00,  5.89it/s, episode=200, return=-558.940]\n",
            "Iteration 1: 100%|██████████| 200/200 [00:34<00:00,  5.81it/s, episode=400, return=-484.530]\n",
            "Iteration 2: 100%|██████████| 200/200 [00:33<00:00,  5.90it/s, episode=600, return=-371.040]\n",
            "Iteration 3: 100%|██████████| 200/200 [00:33<00:00,  5.90it/s, episode=800, return=-248.847]\n",
            "Iteration 4: 100%|██████████| 200/200 [00:33<00:00,  5.99it/s, episode=1000, return=-172.367]\n",
            "Iteration 5: 100%|██████████| 200/200 [00:33<00:00,  5.89it/s, episode=1200, return=-247.206]\n",
            "Iteration 6: 100%|██████████| 200/200 [00:34<00:00,  5.73it/s, episode=1400, return=-299.298]\n",
            "Iteration 7: 100%|██████████| 200/200 [00:34<00:00,  5.72it/s, episode=1600, return=-280.101]\n",
            "Iteration 8: 100%|██████████| 200/200 [00:33<00:00,  5.89it/s, episode=1800, return=-339.681]\n",
            "Iteration 9: 100%|██████████| 200/200 [00:34<00:00,  5.86it/s, episode=2000, return=-172.525]\n"
          ]
        }
      ],
      "source": [
        "actor_lr = 1e-4\n",
        "critic_lr = 5e-3\n",
        "num_episodes = 2000\n",
        "hidden_dim = 128\n",
        "gamma = 0.9\n",
        "lmbda = 0.9\n",
        "epochs = 10\n",
        "eps = 0.2\n",
        "device = torch.device(\"cuda\") if torch.cuda.is_available() else torch.device(\n",
        "    \"cpu\")\n",
        "\n",
        "env_name = 'Pendulum-v1'\n",
        "env = gym.make(env_name, render_mode=\"rgb_array\")\n",
        "random.seed(0)\n",
        "torch.manual_seed(0)\n",
        "state_dim = env.observation_space.shape[0]\n",
        "action_dim = env.action_space.shape[0]  # 连续动作空间\n",
        "agent = PPOContinuous(state_dim, hidden_dim, action_dim, actor_lr, critic_lr,\n",
        "                      lmbda, epochs, eps, gamma, device)\n",
        "\n",
        "return_list = train_on_policy_agent(env, agent, num_episodes)"
      ]
    },
    {
      "cell_type": "markdown",
      "metadata": {
        "id": "b9xmycpKN7qh"
      },
      "source": [
        "# Plot the results\n",
        "\n",
        "In this part, we can plot the learning curves. The figure here is just an illustration, no need to recover this plot."
      ]
    },
    {
      "cell_type": "code",
      "execution_count": 120,
      "metadata": {
        "colab": {
          "base_uri": "https://localhost:8080/",
          "height": 981
        },
        "id": "_gLlZZaQJrhc",
        "outputId": "9a20c1a2-8e99-4aa6-ae02-04aaf4e09619"
      },
      "outputs": [
        {
          "data": {
            "image/png": "[encoded data removed]",
            "text/plain": [
              "<Figure size 640x480 with 1 Axes>"
            ]
          },
          "metadata": {},
          "output_type": "display_data"
        },
        {
          "data": {
            "image/png": "[encoded data removed]",
            "text/plain": [
              "<Figure size 640x480 with 1 Axes>"
            ]
          },
          "metadata": {},
          "output_type": "display_data"
        }
      ],
      "source": [
        "episodes_list = list(range(len(return_list)))\n",
        "plt.plot(episodes_list, return_list)\n",
        "plt.xlabel('Episodes')\n",
        "plt.ylabel('Returns')\n",
        "plt.title('PPO on {}'.format(env_name))\n",
        "plt.show()\n",
        "\n",
        "mv_return = moving_average(return_list, 21)\n",
        "plt.plot(episodes_list, mv_return)\n",
        "plt.xlabel('Episodes')\n",
        "plt.ylabel('Returns')\n",
        "plt.title('PPO on {}'.format(env_name))\n",
        "plt.show()"
      ]
    },
    {
      "cell_type": "markdown",
      "metadata": {
        "id": "-cBOIAAF2Ysw"
      },
      "source": [
        "# Simple method to realize an RL algorithm\n",
        "\n",
        "If you want to test other RL algorithms without building from scratch, you can use some popular libraries for RL. Here we make an example from official documents of stable-baseline3.\n",
        "\n",
        "https://stable-baselines3.readthedocs.io/en/master/guide/examples.html\n",
        "\n",
        "In this example, we use the SAC algorithm (Soft Actor Critic) to solve the same pendulum problem. You can see the training process and evaluation process as follows. If you are interested, give it a try on other popular algorithms such as DDPG, TD3, A2C, etc."
      ]
    },
    {
      "cell_type": "code",
      "execution_count": null,
      "metadata": {
        "colab": {
          "base_uri": "https://localhost:8080/"
        },
        "id": "iMrsf6OV7U0h",
        "outputId": "d56c42a9-87bd-4fc5-f28e-f5cb76d20e42"
      },
      "outputs": [
        {
          "name": "stderr",
          "output_type": "stream",
          "text": [
            "/usr/local/lib/python3.10/dist-packages/ipykernel/ipkernel.py:283: DeprecationWarning: `should_run_async` will not call `transform_cell` automatically in the future. Please pass the result to `transformed_cell` argument and any exception that happen during thetransform in `preprocessing_exc_tuple` in IPython 7.17 and above.\n",
            "  and should_run_async(code)\n"
          ]
        },
        {
          "name": "stdout",
          "output_type": "stream",
          "text": [
            "Requirement already satisfied: gymnasium in /usr/local/lib/python3.10/dist-packages (0.29.1)\n",
            "Requirement already satisfied: numpy>=1.21.0 in /usr/local/lib/python3.10/dist-packages (from gymnasium) (1.23.5)\n",
            "Requirement already satisfied: cloudpickle>=1.2.0 in /usr/local/lib/python3.10/dist-packages (from gymnasium) (2.2.1)\n",
            "Requirement already satisfied: typing-extensions>=4.3.0 in /usr/local/lib/python3.10/dist-packages (from gymnasium) (4.5.0)\n",
            "Requirement already satisfied: farama-notifications>=0.0.1 in /usr/local/lib/python3.10/dist-packages (from gymnasium) (0.0.4)\n",
            "Collecting stable-baselines3\n",
            "  Downloading stable_baselines3-2.2.1-py3-none-any.whl (181 kB)\n",
            "\u001b[2K     \u001b[90m━━━━━━━━━━━━━━━━━━━━━━━━━━━━━━━━━━━━━━━━\u001b[0m \u001b[32m181.7/181.7 kB\u001b[0m \u001b[31m5.3 MB/s\u001b[0m eta \u001b[36m0:00:00\u001b[0m\n",
            "\u001b[?25hRequirement already satisfied: gymnasium<0.30,>=0.28.1 in /usr/local/lib/python3.10/dist-packages (from stable-baselines3) (0.29.1)\n",
            "Requirement already satisfied: numpy>=1.20 in /usr/local/lib/python3.10/dist-packages (from stable-baselines3) (1.23.5)\n",
            "Requirement already satisfied: torch>=1.13 in /usr/local/lib/python3.10/dist-packages (from stable-baselines3) (2.1.0+cu118)\n",
            "Requirement already satisfied: cloudpickle in /usr/local/lib/python3.10/dist-packages (from stable-baselines3) (2.2.1)\n",
            "Requirement already satisfied: pandas in /usr/local/lib/python3.10/dist-packages (from stable-baselines3) (1.5.3)\n",
            "Requirement already satisfied: matplotlib in /usr/local/lib/python3.10/dist-packages (from stable-baselines3) (3.7.1)\n",
            "Requirement already satisfied: typing-extensions>=4.3.0 in /usr/local/lib/python3.10/dist-packages (from gymnasium<0.30,>=0.28.1->stable-baselines3) (4.5.0)\n",
            "Requirement already satisfied: farama-notifications>=0.0.1 in /usr/local/lib/python3.10/dist-packages (from gymnasium<0.30,>=0.28.1->stable-baselines3) (0.0.4)\n",
            "Requirement already satisfied: filelock in /usr/local/lib/python3.10/dist-packages (from torch>=1.13->stable-baselines3) (3.13.1)\n",
            "Requirement already satisfied: sympy in /usr/local/lib/python3.10/dist-packages (from torch>=1.13->stable-baselines3) (1.12)\n",
            "Requirement already satisfied: networkx in /usr/local/lib/python3.10/dist-packages (from torch>=1.13->stable-baselines3) (3.2.1)\n",
            "Requirement already satisfied: jinja2 in /usr/local/lib/python3.10/dist-packages (from torch>=1.13->stable-baselines3) (3.1.2)\n",
            "Requirement already satisfied: fsspec in /usr/local/lib/python3.10/dist-packages (from torch>=1.13->stable-baselines3) (2023.6.0)\n",
            "Requirement already satisfied: triton==2.1.0 in /usr/local/lib/python3.10/dist-packages (from torch>=1.13->stable-baselines3) (2.1.0)\n",
            "Requirement already satisfied: contourpy>=1.0.1 in /usr/local/lib/python3.10/dist-packages (from matplotlib->stable-baselines3) (1.2.0)\n",
            "Requirement already satisfied: cycler>=0.10 in /usr/local/lib/python3.10/dist-packages (from matplotlib->stable-baselines3) (0.12.1)\n",
            "Requirement already satisfied: fonttools>=4.22.0 in /usr/local/lib/python3.10/dist-packages (from matplotlib->stable-baselines3) (4.45.1)\n",
            "Requirement already satisfied: kiwisolver>=1.0.1 in /usr/local/lib/python3.10/dist-packages (from matplotlib->stable-baselines3) (1.4.5)\n",
            "Requirement already satisfied: packaging>=20.0 in /usr/local/lib/python3.10/dist-packages (from matplotlib->stable-baselines3) (23.2)\n",
            "Requirement already satisfied: pillow>=6.2.0 in /usr/local/lib/python3.10/dist-packages (from matplotlib->stable-baselines3) (9.4.0)\n",
            "Requirement already satisfied: pyparsing>=2.3.1 in /usr/local/lib/python3.10/dist-packages (from matplotlib->stable-baselines3) (3.1.1)\n",
            "Requirement already satisfied: python-dateutil>=2.7 in /usr/local/lib/python3.10/dist-packages (from matplotlib->stable-baselines3) (2.8.2)\n",
            "Requirement already satisfied: pytz>=2020.1 in /usr/local/lib/python3.10/dist-packages (from pandas->stable-baselines3) (2023.3.post1)\n",
            "Requirement already satisfied: six>=1.5 in /usr/local/lib/python3.10/dist-packages (from python-dateutil>=2.7->matplotlib->stable-baselines3) (1.16.0)\n",
            "Requirement already satisfied: MarkupSafe>=2.0 in /usr/local/lib/python3.10/dist-packages (from jinja2->torch>=1.13->stable-baselines3) (2.1.3)\n",
            "Requirement already satisfied: mpmath>=0.19 in /usr/local/lib/python3.10/dist-packages (from sympy->torch>=1.13->stable-baselines3) (1.3.0)\n",
            "Installing collected packages: stable-baselines3\n",
            "Successfully installed stable-baselines3-2.2.1\n"
          ]
        }
      ],
      "source": [
        "# !pip3 install gymnasium\n",
        "# !pip3 install stable-baselines3"
      ]
    },
    {
      "cell_type": "code",
      "execution_count": null,
      "metadata": {
        "colab": {
          "base_uri": "https://localhost:8080/"
        },
        "id": "eam3eYiK9csc",
        "outputId": "3cd0cae0-7f58-4d4a-cf1d-ba7cd0ec792f"
      },
      "outputs": [
        {
          "name": "stdout",
          "output_type": "stream",
          "text": [
            "Eval num_timesteps=500, episode_reward=-1246.32 +/- 95.51\n",
            "Episode length: 200.00 +/- 0.00\n",
            "New best mean reward!\n",
            "Eval num_timesteps=1000, episode_reward=-97.79 +/- 58.07\n",
            "Episode length: 200.00 +/- 0.00\n",
            "New best mean reward!\n",
            "Eval num_timesteps=1500, episode_reward=-28.38 +/- 30.84\n",
            "Episode length: 200.00 +/- 0.00\n",
            "New best mean reward!\n",
            "Eval num_timesteps=2000, episode_reward=-17.72 +/- 25.63\n",
            "Episode length: 200.00 +/- 0.00\n",
            "New best mean reward!\n",
            "Eval num_timesteps=2500, episode_reward=-652.24 +/- 462.99\n",
            "Episode length: 200.00 +/- 0.00\n",
            "Eval num_timesteps=3000, episode_reward=-546.95 +/- 615.23\n",
            "Episode length: 200.00 +/- 0.00\n",
            "Eval num_timesteps=3500, episode_reward=-75.93 +/- 87.66\n",
            "Episode length: 200.00 +/- 0.00\n",
            "Eval num_timesteps=4000, episode_reward=-70.73 +/- 59.70\n",
            "Episode length: 200.00 +/- 0.00\n",
            "Eval num_timesteps=4500, episode_reward=-78.06 +/- 78.68\n",
            "Episode length: 200.00 +/- 0.00\n",
            "Eval num_timesteps=5000, episode_reward=-32.16 +/- 56.83\n",
            "Episode length: 200.00 +/- 0.00\n"
          ]
        },
        {
          "data": {
            "text/plain": [
              "<stable_baselines3.sac.sac.SAC at 0x7ea58fc9f430>"
            ]
          },
          "execution_count": 45,
          "metadata": {},
          "output_type": "execute_result"
        }
      ],
      "source": [
        "import os\n",
        "import gymnasium as gym\n",
        "\n",
        "from stable_baselines3 import SAC\n",
        "from stable_baselines3.common.callbacks import EvalCallback\n",
        "from stable_baselines3.common.env_util import make_vec_env\n",
        "\n",
        "env_id = \"Pendulum-v1\"\n",
        "n_training_envs = 1\n",
        "n_eval_envs = 5\n",
        "\n",
        "# Create log dir where evaluation results will be saved\n",
        "eval_log_dir = \"./eval_logs/\"\n",
        "os.makedirs(eval_log_dir, exist_ok=True)\n",
        "\n",
        "# Initialize a vectorized training environment with default parameters\n",
        "train_env = make_vec_env(env_id, n_envs=n_training_envs, seed=0)\n",
        "\n",
        "# Separate evaluation env, with different parameters passed via env_kwargs\n",
        "# Eval environments can be vectorized to speed up evaluation.\n",
        "eval_env = make_vec_env(env_id, n_envs=n_eval_envs, seed=0,\n",
        "                        env_kwargs={'g':0.7})\n",
        "\n",
        "# Create callback that evaluates agent for 5 episodes every 500 training environment steps.\n",
        "# When using multiple training environments, agent will be evaluated every\n",
        "# eval_freq calls to train_env.step(), thus it will be evaluated every\n",
        "# (eval_freq * n_envs) training steps. See EvalCallback doc for more information.\n",
        "eval_callback = EvalCallback(eval_env, best_model_save_path=eval_log_dir,\n",
        "                              log_path=eval_log_dir, eval_freq=max(500 // n_training_envs, 1),\n",
        "                              n_eval_episodes=5, deterministic=True,\n",
        "                              render=False)\n",
        "\n",
        "model = SAC(\"MlpPolicy\", train_env)\n",
        "model.learn(5000, callback=eval_callback)"
      ]
    }
  ],
  "metadata": {
    "accelerator": "TPU",
    "colab": {
      "provenance": []
    },
    "kernelspec": {
      "display_name": "Python 3",
      "name": "python3"
    },
    "language_info": {
      "codemirror_mode": {
        "name": "ipython",
        "version": 3
      },
      "file_extension": ".py",
      "mimetype": "text/x-python",
      "name": "python",
      "nbconvert_exporter": "python",
      "pygments_lexer": "ipython3",
      "version": "3.8.0"
    }
  },
  "nbformat": 4,
  "nbformat_minor": 0
}
